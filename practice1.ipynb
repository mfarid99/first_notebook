{
 "cells": [
  {
   "cell_type": "code",
   "execution_count": null,
   "id": "26889c39-a4be-4f5b-9fa5-02541dd8acab",
   "metadata": {},
   "outputs": [],
   "source": []
  }
 ],
 "metadata": {
  "kernelspec": {
   "display_name": "",
   "name": ""
  },
  "language_info": {
   "name": ""
  }
 },
 "nbformat": 4,
 "nbformat_minor": 5
}
