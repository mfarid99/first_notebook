{
 "cells": [
  {
   "cell_type": "code",
   "execution_count": 1,
   "id": "c8438457-7d36-4aca-a6af-39870b4635c9",
   "metadata": {},
   "outputs": [
    {
     "name": "stdout",
     "output_type": "stream",
     "text": [
      "hello\n"
     ]
    }
   ],
   "source": [
    "print('hello')\n"
   ]
  },
  {
   "cell_type": "code",
   "execution_count": 3,
   "id": "088627d9-977a-4d45-b053-aab068946b37",
   "metadata": {},
   "outputs": [
    {
     "name": "stdout",
     "output_type": "stream",
     "text": [
      "\n",
      "I am \n",
      "The Man\n",
      "Who Walks\n",
      "Alone\n",
      "\n"
     ]
    }
   ],
   "source": [
    "print('''\n",
    "I am \n",
    "The Man\n",
    "Who Walks\n",
    "Alone\n",
    "''')"
   ]
  },
  {
   "cell_type": "code",
   "execution_count": null,
   "id": "8c6b3662-abb3-44a0-8dfd-8054f2ad9ac1",
   "metadata": {},
   "outputs": [],
   "source": []
  }
 ],
 "metadata": {
  "kernelspec": {
   "display_name": "Python 3 (ipykernel)",
   "language": "python",
   "name": "python3"
  },
  "language_info": {
   "codemirror_mode": {
    "name": "ipython",
    "version": 3
   },
   "file_extension": ".py",
   "mimetype": "text/x-python",
   "name": "python",
   "nbconvert_exporter": "python",
   "pygments_lexer": "ipython3",
   "version": "3.13.5"
  }
 },
 "nbformat": 4,
 "nbformat_minor": 5
}
