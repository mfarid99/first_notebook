{
 "cells": [
  {
   "cell_type": "code",
   "execution_count": null,
   "id": "c8438457-7d36-4aca-a6af-39870b4635c9",
   "metadata": {},
   "outputs": [],
   "source": []
  }
 ],
 "metadata": {
  "kernelspec": {
   "display_name": "",
   "name": ""
  },
  "language_info": {
   "name": ""
  }
 },
 "nbformat": 4,
 "nbformat_minor": 5
}
